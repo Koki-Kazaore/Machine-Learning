{
  "cells": [
    {
      "cell_type": "markdown",
      "metadata": {
        "id": "view-in-github",
        "colab_type": "text"
      },
      "source": [
        "<a href=\"https://colab.research.google.com/github/Koki-Kazaore/Machine-Learning/blob/main/MLIL_3.ipynb\" target=\"_parent\"><img src=\"https://colab.research.google.com/assets/colab-badge.svg\" alt=\"Open In Colab\"/></a>"
      ]
    },
    {
      "cell_type": "code",
      "execution_count": 1,
      "metadata": {
        "id": "vgUuWHrZkLeb"
      },
      "outputs": [],
      "source": [
        "import keras\n",
        "from keras.utils import np_utils\n",
        "from keras.layers.convolutional import Conv2D, MaxPooling2D\n",
        "from keras.models import Sequential\n",
        "from keras.layers.core import Dense, Dropout, Activation, Flatten\n",
        "from keras.preprocessing.image import array_to_img, img_to_array, load_img\n",
        "import numpy as np\n",
        "import pandas as pd\n",
        "from sklearn.model_selection import train_test_split\n",
        "import matplotlib.pyplot as plt\n",
        "import os\n",
        "import re\n",
        "from keras.utils import np_utils\n",
        "\n",
        "# セルフで追加\n",
        "import cv2\n"
      ]
    },
    {
      "cell_type": "markdown",
      "metadata": {
        "id": "nG9IkJJvm8vI"
      },
      "source": [
        "#自作データの作成"
      ]
    },
    {
      "cell_type": "code",
      "execution_count": null,
      "metadata": {
        "id": "MyHl2Og-q8NG"
      },
      "outputs": [],
      "source": [
        "def list_pictures(directory, ext='jpg|jpeg|bmp|png|ppm'):\n",
        "    return [os.path.join(root, f)\n",
        "            for root, _, files in os.walk(directory) for f in files\n",
        "            if re.match(r'([\\w]+\\.(?:' + ext + '))', f.lower())]"
      ]
    },
    {
      "cell_type": "code",
      "execution_count": null,
      "metadata": {
        "id": "fqZQ4vXvkmlQ"
      },
      "outputs": [],
      "source": [
        "\"\"\"\n",
        "データセットを作る\n",
        "\n",
        "具体的には2つ\n",
        "・X : 「縦の画素数 * 横の画素数 * チャンネル数 *データの数」のarray(配列)\n",
        " ※チャンネル数はグレースケールは'1', カラーは'3'\n",
        "・Y : onehotベクトル *データの数\n",
        "\n",
        "\"\"\"\n",
        "\n",
        "X = [] # 画像データセットをいれる箱\n",
        "Y = [] # ラベルデータセットをいれる箱\n",
        "\n",
        "\"\"\"\n",
        "＜ディレクトリについて＞\n",
        "\n",
        "今, AとBの2つのクラスを分類するとします。\n",
        "\n",
        "Aの画像は, 'class_A'というフォルダの下に\n",
        "Bの画像は, 'class_B'というフォルダの下に\n",
        "あります.\n",
        "\n",
        "＜以降の処理の説明＞\n",
        "class_Aの下にある画像を, \n",
        "先頭から, 1個ずつロードして, 箱Xに末尾から追加していきます.\n",
        "箱YにはクラスAのラベルを示す「0」の値を, 画像と同じ数追加します.\n",
        "\n",
        "そのあと, \n",
        "class_Bの下にある画像を, \n",
        "先頭から, 1個ずつロードして, 箱Xに末尾から追加していきます.\n",
        "箱YにはクラスBのラベルを示す「1」の値を, 画像と同じ数追加します.\n",
        "\n",
        "つまり最終的には, \n",
        "XにはクラスAの画像とクラスBの画像が,\n",
        "Yには「0」がクラスAの画像データ数コ, 「1」がクラスBの画像データ数コ\n",
        "入っている状態になります.\n",
        "\n",
        "\n",
        "\"\"\"\n",
        "\n",
        "\n",
        "\n",
        "# クラスAの画像\n",
        "for picture in list_pictures('./class_A/'): # クラスAの画像を1コ拾って, 下の処理を実行. を繰り返す\n",
        "    \n",
        "    img = img_to_array(load_img(picture, target_size=(64,64))) # 拾った画像をarrayに変換\n",
        "\n",
        "\n",
        "    X.append(img) # 箱Xに追加\n",
        "\n",
        "    Y.append(0) # 箱Yに追加\n",
        "\n",
        "\n",
        "# クラスBの画像 (Aと同様です)\n",
        "for picture in list_pictures('./class_B/'):\n",
        "    img = img_to_array(load_img(picture, target_size=(64,64)))\n",
        "    X.append(img)\n",
        "\n",
        "    Y.append(1)\n",
        "\n",
        "# 箱Xと箱Yをlist型にしてるので, これをCNNが扱いやすいarray型に変換します\n",
        "# ※ 注意!!! : 箱の中身はarrayですが, 箱自体がlist型なのでこの処理が必要です\n",
        "\n",
        "# listをarrayに変換\n",
        "X = np.asarray(X)\n",
        "Y = np.asarray(Y)\n",
        "\n"
      ]
    },
    {
      "cell_type": "code",
      "execution_count": null,
      "metadata": {
        "colab": {
          "base_uri": "https://localhost:8080/"
        },
        "id": "3-o_zqAJsUBM",
        "outputId": "c91c66a6-c383-444c-f194-05b17748b6f9"
      },
      "outputs": [
        {
          "name": "stdout",
          "output_type": "stream",
          "text": [
            "(0,) (0,)\n"
          ]
        }
      ],
      "source": [
        "print(X.shape, Y.shape)"
      ]
    },
    {
      "cell_type": "code",
      "execution_count": null,
      "metadata": {
        "colab": {
          "base_uri": "https://localhost:8080/",
          "height": 398
        },
        "id": "692I0j1Qkoop",
        "outputId": "da2d2231-a7ed-4a08-a82c-8fb80c5f6f95"
      },
      "outputs": [
        {
          "ename": "ValueError",
          "evalue": "ignored",
          "output_type": "error",
          "traceback": [
            "\u001b[0;31m---------------------------------------------------------------------------\u001b[0m",
            "\u001b[0;31mValueError\u001b[0m                                Traceback (most recent call last)",
            "\u001b[0;32m<ipython-input-5-b32be31f71bf>\u001b[0m in \u001b[0;36m<module>\u001b[0;34m()\u001b[0m\n\u001b[1;32m     28\u001b[0m \"\"\"\n\u001b[1;32m     29\u001b[0m \u001b[0;31m# 学習用データとテストデータに分割する\u001b[0m\u001b[0;34m\u001b[0m\u001b[0;34m\u001b[0m\u001b[0;34m\u001b[0m\u001b[0m\n\u001b[0;32m---> 30\u001b[0;31m \u001b[0mX_train\u001b[0m\u001b[0;34m,\u001b[0m \u001b[0mX_test\u001b[0m\u001b[0;34m,\u001b[0m \u001b[0my_train\u001b[0m\u001b[0;34m,\u001b[0m \u001b[0my_test\u001b[0m \u001b[0;34m=\u001b[0m \u001b[0mtrain_test_split\u001b[0m\u001b[0;34m(\u001b[0m\u001b[0mX\u001b[0m\u001b[0;34m,\u001b[0m \u001b[0mY\u001b[0m\u001b[0;34m,\u001b[0m \u001b[0mtest_size\u001b[0m\u001b[0;34m=\u001b[0m\u001b[0;36m0.5\u001b[0m\u001b[0;34m,\u001b[0m \u001b[0mrandom_state\u001b[0m\u001b[0;34m=\u001b[0m\u001b[0;36m111\u001b[0m\u001b[0;34m)\u001b[0m\u001b[0;34m\u001b[0m\u001b[0;34m\u001b[0m\u001b[0m\n\u001b[0m\u001b[1;32m     31\u001b[0m \u001b[0;34m\u001b[0m\u001b[0m\n\u001b[1;32m     32\u001b[0m \u001b[0;34m\u001b[0m\u001b[0m\n",
            "\u001b[0;32m/usr/local/lib/python3.7/dist-packages/sklearn/model_selection/_split.py\u001b[0m in \u001b[0;36mtrain_test_split\u001b[0;34m(test_size, train_size, random_state, shuffle, stratify, *arrays)\u001b[0m\n\u001b[1;32m   2419\u001b[0m     \u001b[0mn_samples\u001b[0m \u001b[0;34m=\u001b[0m \u001b[0m_num_samples\u001b[0m\u001b[0;34m(\u001b[0m\u001b[0marrays\u001b[0m\u001b[0;34m[\u001b[0m\u001b[0;36m0\u001b[0m\u001b[0;34m]\u001b[0m\u001b[0;34m)\u001b[0m\u001b[0;34m\u001b[0m\u001b[0;34m\u001b[0m\u001b[0m\n\u001b[1;32m   2420\u001b[0m     n_train, n_test = _validate_shuffle_split(\n\u001b[0;32m-> 2421\u001b[0;31m         \u001b[0mn_samples\u001b[0m\u001b[0;34m,\u001b[0m \u001b[0mtest_size\u001b[0m\u001b[0;34m,\u001b[0m \u001b[0mtrain_size\u001b[0m\u001b[0;34m,\u001b[0m \u001b[0mdefault_test_size\u001b[0m\u001b[0;34m=\u001b[0m\u001b[0;36m0.25\u001b[0m\u001b[0;34m\u001b[0m\u001b[0;34m\u001b[0m\u001b[0m\n\u001b[0m\u001b[1;32m   2422\u001b[0m     )\n\u001b[1;32m   2423\u001b[0m \u001b[0;34m\u001b[0m\u001b[0m\n",
            "\u001b[0;32m/usr/local/lib/python3.7/dist-packages/sklearn/model_selection/_split.py\u001b[0m in \u001b[0;36m_validate_shuffle_split\u001b[0;34m(n_samples, test_size, train_size, default_test_size)\u001b[0m\n\u001b[1;32m   2099\u001b[0m             \u001b[0;34m\"With n_samples={}, test_size={} and train_size={}, the \"\u001b[0m\u001b[0;34m\u001b[0m\u001b[0;34m\u001b[0m\u001b[0m\n\u001b[1;32m   2100\u001b[0m             \u001b[0;34m\"resulting train set will be empty. Adjust any of the \"\u001b[0m\u001b[0;34m\u001b[0m\u001b[0;34m\u001b[0m\u001b[0m\n\u001b[0;32m-> 2101\u001b[0;31m             \u001b[0;34m\"aforementioned parameters.\"\u001b[0m\u001b[0;34m.\u001b[0m\u001b[0mformat\u001b[0m\u001b[0;34m(\u001b[0m\u001b[0mn_samples\u001b[0m\u001b[0;34m,\u001b[0m \u001b[0mtest_size\u001b[0m\u001b[0;34m,\u001b[0m \u001b[0mtrain_size\u001b[0m\u001b[0;34m)\u001b[0m\u001b[0;34m\u001b[0m\u001b[0;34m\u001b[0m\u001b[0m\n\u001b[0m\u001b[1;32m   2102\u001b[0m         )\n\u001b[1;32m   2103\u001b[0m \u001b[0;34m\u001b[0m\u001b[0m\n",
            "\u001b[0;31mValueError\u001b[0m: With n_samples=0, test_size=0.5 and train_size=None, the resulting train set will be empty. Adjust any of the aforementioned parameters."
          ]
        }
      ],
      "source": [
        "\n",
        "# 画素値を0～1の範囲に変換\n",
        "X = X.astype('float32')   # 下の割り算のために要素を全部 float32にする\n",
        "X = X / 255.0   # 最大の濃度地255ですべての濃度値を割る\n",
        "\n",
        "\"\"\"\n",
        "Yの中身をone-hotベクトルに変換します\n",
        "\n",
        "つまり\n",
        "クラスA →　[1, 0]\n",
        "クラスB → [0, 1]\n",
        "と形を変えます. \n",
        "こちらのほうがCNNが理解しやすいためです. \n",
        "\n",
        "もっと言えば, \n",
        "箱Yのなかの\n",
        "「0」を「[1, 0]」に\n",
        "「1」を「[0, 1]」に  します.\n",
        "\n",
        "\"\"\"\n",
        "\n",
        "# onehotに変換\n",
        "Y = np_utils.to_categorical(Y, 2)\n",
        "\n",
        "\"\"\"\n",
        "次に, 学習データとテストデータを分割しています\n",
        "必要ないならコメントアウトしてください.\n",
        "\"\"\"\n",
        "# 学習用データとテストデータに分割する\n",
        "X_train, X_test, y_train, y_test = train_test_split(X, Y, test_size=0.5, random_state=111)\n",
        "\n",
        "\n",
        "\"\"\"\n",
        "ここまでで, データの前処理は終わりです.\n",
        "以下のデータが出来上がりました.\n",
        "\n",
        "X_train : 学習画像のデータセット\n",
        "X_test : テスト画像のデータセット\n",
        "y_train : 学習画像のデータセットに対応した, ラベルデータセット\n",
        "y_test : テスト画像のデータセットに対応した, ラベルデータセット\n",
        "\n",
        "あとはCNNにこれらを渡します.\n",
        "\"\"\"\n"
      ]
    },
    {
      "cell_type": "markdown",
      "metadata": {
        "id": "qrAz6dP7nKtn"
      },
      "source": [
        ""
      ]
    },
    {
      "cell_type": "markdown",
      "metadata": {
        "id": "Mjh3aDAsnNYI"
      },
      "source": [
        "#MNIST"
      ]
    },
    {
      "cell_type": "code",
      "execution_count": null,
      "metadata": {
        "id": "mT9Okbg0qZRv"
      },
      "outputs": [],
      "source": [
        "from keras.datasets import mnist"
      ]
    },
    {
      "cell_type": "code",
      "execution_count": null,
      "metadata": {
        "id": "NzVv30wnnSBo"
      },
      "outputs": [],
      "source": [
        "# MNISTデータを読込む\n",
        "(x_train, y_train), (x_test, y_test) = mnist.load_data()\n",
        "\n",
        "# MNISTデータを加工する\n",
        "x_train  = x_train.reshape(60000, 28, 28, 1)\n",
        "x_test   = x_test.reshape(10000, 28, 28, 1)\n",
        "x_train  = x_train.astype('float32')\n",
        "x_test   = x_test.astype('float32')\n",
        "x_train /= 255\n",
        "x_test  /= 255\n",
        "y_train  = np_utils.to_categorical(y_train, 10)\n",
        "y_test   = np_utils.to_categorical(y_test, 10)"
      ]
    },
    {
      "cell_type": "code",
      "execution_count": null,
      "metadata": {
        "id": "LRd9DdOSn_Ww"
      },
      "outputs": [],
      "source": [
        "X_train = x_train\n",
        "X_test = x_test\n",
        "\n",
        "\n",
        "print(X_train.shape)"
      ]
    },
    {
      "cell_type": "markdown",
      "metadata": {
        "id": "tGK6X5EIqQo6"
      },
      "source": [
        "#Cifar10"
      ]
    },
    {
      "cell_type": "code",
      "execution_count": 2,
      "metadata": {
        "id": "vwoWpbsZqVpJ"
      },
      "outputs": [],
      "source": [
        "from keras.datasets import cifar10"
      ]
    },
    {
      "cell_type": "code",
      "execution_count": 3,
      "metadata": {
        "id": "7oItE5HDqLDP"
      },
      "outputs": [],
      "source": [
        "(x_train,y_train),(x_test,y_test)=cifar10.load_data()\n",
        "\n",
        "# MNISTデータを加工する\n",
        "\n",
        "x_train  = x_train.astype('float32')\n",
        "x_test   = x_test.astype('float32')\n",
        "x_train /= 255\n",
        "x_test  /= 255\n",
        "y_train  = np_utils.to_categorical(y_train, 10)\n",
        "y_test   = np_utils.to_categorical(y_test, 10)"
      ]
    },
    {
      "cell_type": "markdown",
      "metadata": {
        "id": "0S-fmeYt8l-z"
      },
      "source": [
        "# データの水増し"
      ]
    },
    {
      "cell_type": "code",
      "execution_count": 4,
      "metadata": {
        "colab": {
          "base_uri": "https://localhost:8080/"
        },
        "id": "wFC4-iKI8lMd",
        "outputId": "a9793697-59c1-4fbc-95d4-581a96c3020e"
      },
      "outputs": [
        {
          "output_type": "stream",
          "name": "stdout",
          "text": [
            "水増し前= 50000\n",
            "水増し後= 200000\n"
          ]
        }
      ],
      "source": [
        "x_new = []\n",
        "y_new = []\n",
        "\n",
        "for i, xi in enumerate(x_train):\n",
        "    yi = y_train[i]\n",
        "    for ang in range(-30, 30, 15):\n",
        "        # 回転させる\n",
        "        center = (16, 16) # 回転の中心点\n",
        "        mtx = cv2.getRotationMatrix2D(center, ang, 1.0)\n",
        "        xi2 = cv2.warpAffine(xi, mtx, (32, 32))\n",
        "        x_new.append(xi2)\n",
        "        y_new.append(yi)\n",
        "\n",
        "        \"\"\"\n",
        "        RAMの容量不足のためコメントアウト\n",
        "        # さらに左右反転させる\n",
        "        xi3 = cv2.flip(xi2, 1)\n",
        "        x_new.append(xi3)\n",
        "        y_new.append(yi)\n",
        "        \"\"\"\n",
        "\n",
        "# 水増しした画像を学習用に置き換える\n",
        "print('水増し前=', len(y_train))\n",
        "x_train = np.array(x_new)\n",
        "y_train = np.array(y_new)\n",
        "print('水増し後=', len(y_train))"
      ]
    },
    {
      "cell_type": "markdown",
      "metadata": {
        "id": "gAZDHYUk8t1J"
      },
      "source": [
        "# 微修正"
      ]
    },
    {
      "cell_type": "code",
      "execution_count": 5,
      "metadata": {
        "colab": {
          "base_uri": "https://localhost:8080/"
        },
        "id": "Nn8YR9bMqSpP",
        "outputId": "b08622e0-570d-4770-d287-b34ee9caae6a"
      },
      "outputs": [
        {
          "output_type": "stream",
          "name": "stdout",
          "text": [
            "(200000, 32, 32, 3)\n"
          ]
        }
      ],
      "source": [
        "X_train = x_train\n",
        "X_test = x_test\n",
        "\n",
        "\n",
        "\n",
        "print(X_train.shape)"
      ]
    },
    {
      "cell_type": "markdown",
      "metadata": {
        "id": "m_OMLpzNnA1x"
      },
      "source": [
        "#モデル定義"
      ]
    },
    {
      "cell_type": "code",
      "execution_count": 6,
      "metadata": {
        "id": "NNFmFfi_krFG"
      },
      "outputs": [],
      "source": [
        "\"\"\"\n",
        "ここでは\n",
        "CNNへのモデルの渡し方を説明するために, \n",
        "適当にCNNを構築してます\n",
        "\n",
        "ここは, 自身のモデルに合わせて作ってください.\n",
        "\"\"\"\n",
        "# CNNを構築してみる\n",
        "model = Sequential()\n",
        "\n",
        "model.add(Conv2D(32, (3, 3), padding='same',\n",
        "                 input_shape=X_train.shape[1:])) \n",
        "# (3, 3)の部分がカーネルサイズ。後ろの方に行くにつれ大きくするとうまくいきやすい\n",
        "model.add(Activation('relu'))\n",
        "model.add(Conv2D(32, (5, 5)))\n",
        "model.add(Activation('relu'))\n",
        "model.add(MaxPooling2D(pool_size=(2, 2)))\n",
        "model.add(Dropout(0.25))\n",
        "\n",
        "model.add(Conv2D(64, (7, 7), padding='same'))\n",
        "model.add(Activation('relu'))\n",
        "model.add(Conv2D(64, (9, 9)))\n",
        "model.add(Activation('relu'))\n",
        "model.add(MaxPooling2D(pool_size=(2, 2)))\n",
        "model.add(Dropout(0.25))\n",
        "\n",
        "model.add(Flatten())\n",
        "model.add(Dense(512))\n",
        "model.add(Activation('relu'))\n",
        "model.add(Dropout(0.5))\n",
        "model.add(Dense(10))       # クラスは2個なので, 出力層のニューロン数は2つになってます\n",
        "model.add(Activation('softmax'))\n",
        "\n",
        "# 作ったCNNモデルをコンパイルします\n",
        "# SGDは最小勾配法を意味する。Adamなどを使うのも一つの手\n",
        "model.compile(loss='categorical_crossentropy',\n",
        "              optimizer='Adam',\n",
        "              metrics=['accuracy'])\n"
      ]
    },
    {
      "cell_type": "markdown",
      "metadata": {
        "id": "HtedMGOKnFJP"
      },
      "source": [
        "#モデルで学習"
      ]
    },
    {
      "cell_type": "code",
      "execution_count": 7,
      "metadata": {
        "colab": {
          "base_uri": "https://localhost:8080/",
          "height": 1000
        },
        "id": "wpX4YvDAvOre",
        "outputId": "cbec59b5-d1e3-4f27-ed6e-848aac482a2c"
      },
      "outputs": [
        {
          "output_type": "error",
          "ename": "ResourceExhaustedError",
          "evalue": "ignored",
          "traceback": [
            "\u001b[0;31m---------------------------------------------------------------------------\u001b[0m",
            "\u001b[0;31mResourceExhaustedError\u001b[0m                    Traceback (most recent call last)",
            "\u001b[0;32m<ipython-input-7-4056bc6c6cdb>\u001b[0m in \u001b[0;36m<module>\u001b[0;34m()\u001b[0m\n\u001b[1;32m     18\u001b[0m                     \u001b[0my_train\u001b[0m\u001b[0;34m,\u001b[0m\u001b[0;34m\u001b[0m\u001b[0;34m\u001b[0m\u001b[0m\n\u001b[1;32m     19\u001b[0m                     \u001b[0mbatch_size\u001b[0m\u001b[0;34m=\u001b[0m\u001b[0;36m20000\u001b[0m\u001b[0;34m,\u001b[0m \u001b[0mepochs\u001b[0m\u001b[0;34m=\u001b[0m\u001b[0;36m10\u001b[0m\u001b[0;34m,\u001b[0m\u001b[0;34m\u001b[0m\u001b[0;34m\u001b[0m\u001b[0m\n\u001b[0;32m---> 20\u001b[0;31m                    validation_data = (X_test, y_test), verbose = 0)\n\u001b[0m",
            "\u001b[0;32m/usr/local/lib/python3.7/dist-packages/keras/utils/traceback_utils.py\u001b[0m in \u001b[0;36merror_handler\u001b[0;34m(*args, **kwargs)\u001b[0m\n\u001b[1;32m     65\u001b[0m     \u001b[0;32mexcept\u001b[0m \u001b[0mException\u001b[0m \u001b[0;32mas\u001b[0m \u001b[0me\u001b[0m\u001b[0;34m:\u001b[0m  \u001b[0;31m# pylint: disable=broad-except\u001b[0m\u001b[0;34m\u001b[0m\u001b[0;34m\u001b[0m\u001b[0m\n\u001b[1;32m     66\u001b[0m       \u001b[0mfiltered_tb\u001b[0m \u001b[0;34m=\u001b[0m \u001b[0m_process_traceback_frames\u001b[0m\u001b[0;34m(\u001b[0m\u001b[0me\u001b[0m\u001b[0;34m.\u001b[0m\u001b[0m__traceback__\u001b[0m\u001b[0;34m)\u001b[0m\u001b[0;34m\u001b[0m\u001b[0;34m\u001b[0m\u001b[0m\n\u001b[0;32m---> 67\u001b[0;31m       \u001b[0;32mraise\u001b[0m \u001b[0me\u001b[0m\u001b[0;34m.\u001b[0m\u001b[0mwith_traceback\u001b[0m\u001b[0;34m(\u001b[0m\u001b[0mfiltered_tb\u001b[0m\u001b[0;34m)\u001b[0m \u001b[0;32mfrom\u001b[0m \u001b[0;32mNone\u001b[0m\u001b[0;34m\u001b[0m\u001b[0;34m\u001b[0m\u001b[0m\n\u001b[0m\u001b[1;32m     68\u001b[0m     \u001b[0;32mfinally\u001b[0m\u001b[0;34m:\u001b[0m\u001b[0;34m\u001b[0m\u001b[0;34m\u001b[0m\u001b[0m\n\u001b[1;32m     69\u001b[0m       \u001b[0;32mdel\u001b[0m \u001b[0mfiltered_tb\u001b[0m\u001b[0;34m\u001b[0m\u001b[0;34m\u001b[0m\u001b[0m\n",
            "\u001b[0;32m/usr/local/lib/python3.7/dist-packages/tensorflow/python/eager/execute.py\u001b[0m in \u001b[0;36mquick_execute\u001b[0;34m(op_name, num_outputs, inputs, attrs, ctx, name)\u001b[0m\n\u001b[1;32m     53\u001b[0m     \u001b[0mctx\u001b[0m\u001b[0;34m.\u001b[0m\u001b[0mensure_initialized\u001b[0m\u001b[0;34m(\u001b[0m\u001b[0;34m)\u001b[0m\u001b[0;34m\u001b[0m\u001b[0;34m\u001b[0m\u001b[0m\n\u001b[1;32m     54\u001b[0m     tensors = pywrap_tfe.TFE_Py_Execute(ctx._handle, device_name, op_name,\n\u001b[0;32m---> 55\u001b[0;31m                                         inputs, attrs, num_outputs)\n\u001b[0m\u001b[1;32m     56\u001b[0m   \u001b[0;32mexcept\u001b[0m \u001b[0mcore\u001b[0m\u001b[0;34m.\u001b[0m\u001b[0m_NotOkStatusException\u001b[0m \u001b[0;32mas\u001b[0m \u001b[0me\u001b[0m\u001b[0;34m:\u001b[0m\u001b[0;34m\u001b[0m\u001b[0;34m\u001b[0m\u001b[0m\n\u001b[1;32m     57\u001b[0m     \u001b[0;32mif\u001b[0m \u001b[0mname\u001b[0m \u001b[0;32mis\u001b[0m \u001b[0;32mnot\u001b[0m \u001b[0;32mNone\u001b[0m\u001b[0;34m:\u001b[0m\u001b[0;34m\u001b[0m\u001b[0;34m\u001b[0m\u001b[0m\n",
            "\u001b[0;31mResourceExhaustedError\u001b[0m: Graph execution error:\n\nDetected at node 'gradient_tape/sequential/conv2d_3/Conv2D/Conv2DBackpropInput' defined at (most recent call last):\n    File \"/usr/lib/python3.7/runpy.py\", line 193, in _run_module_as_main\n      \"__main__\", mod_spec)\n    File \"/usr/lib/python3.7/runpy.py\", line 85, in _run_code\n      exec(code, run_globals)\n    File \"/usr/local/lib/python3.7/dist-packages/ipykernel_launcher.py\", line 16, in <module>\n      app.launch_new_instance()\n    File \"/usr/local/lib/python3.7/dist-packages/traitlets/config/application.py\", line 846, in launch_instance\n      app.start()\n    File \"/usr/local/lib/python3.7/dist-packages/ipykernel/kernelapp.py\", line 499, in start\n      self.io_loop.start()\n    File \"/usr/local/lib/python3.7/dist-packages/tornado/platform/asyncio.py\", line 132, in start\n      self.asyncio_loop.run_forever()\n    File \"/usr/lib/python3.7/asyncio/base_events.py\", line 541, in run_forever\n      self._run_once()\n    File \"/usr/lib/python3.7/asyncio/base_events.py\", line 1786, in _run_once\n      handle._run()\n    File \"/usr/lib/python3.7/asyncio/events.py\", line 88, in _run\n      self._context.run(self._callback, *self._args)\n    File \"/usr/local/lib/python3.7/dist-packages/tornado/platform/asyncio.py\", line 122, in _handle_events\n      handler_func(fileobj, events)\n    File \"/usr/local/lib/python3.7/dist-packages/tornado/stack_context.py\", line 300, in null_wrapper\n      return fn(*args, **kwargs)\n    File \"/usr/local/lib/python3.7/dist-packages/zmq/eventloop/zmqstream.py\", line 452, in _handle_events\n      self._handle_recv()\n    File \"/usr/local/lib/python3.7/dist-packages/zmq/eventloop/zmqstream.py\", line 481, in _handle_recv\n      self._run_callback(callback, msg)\n    File \"/usr/local/lib/python3.7/dist-packages/zmq/eventloop/zmqstream.py\", line 431, in _run_callback\n      callback(*args, **kwargs)\n    File \"/usr/local/lib/python3.7/dist-packages/tornado/stack_context.py\", line 300, in null_wrapper\n      return fn(*args, **kwargs)\n    File \"/usr/local/lib/python3.7/dist-packages/ipykernel/kernelbase.py\", line 283, in dispatcher\n      return self.dispatch_shell(stream, msg)\n    File \"/usr/local/lib/python3.7/dist-packages/ipykernel/kernelbase.py\", line 233, in dispatch_shell\n      handler(stream, idents, msg)\n    File \"/usr/local/lib/python3.7/dist-packages/ipykernel/kernelbase.py\", line 399, in execute_request\n      user_expressions, allow_stdin)\n    File \"/usr/local/lib/python3.7/dist-packages/ipykernel/ipkernel.py\", line 208, in do_execute\n      res = shell.run_cell(code, store_history=store_history, silent=silent)\n    File \"/usr/local/lib/python3.7/dist-packages/ipykernel/zmqshell.py\", line 537, in run_cell\n      return super(ZMQInteractiveShell, self).run_cell(*args, **kwargs)\n    File \"/usr/local/lib/python3.7/dist-packages/IPython/core/interactiveshell.py\", line 2718, in run_cell\n      interactivity=interactivity, compiler=compiler, result=result)\n    File \"/usr/local/lib/python3.7/dist-packages/IPython/core/interactiveshell.py\", line 2822, in run_ast_nodes\n      if self.run_code(code, result):\n    File \"/usr/local/lib/python3.7/dist-packages/IPython/core/interactiveshell.py\", line 2882, in run_code\n      exec(code_obj, self.user_global_ns, self.user_ns)\n    File \"<ipython-input-7-4056bc6c6cdb>\", line 20, in <module>\n      validation_data = (X_test, y_test), verbose = 0)\n    File \"/usr/local/lib/python3.7/dist-packages/keras/utils/traceback_utils.py\", line 64, in error_handler\n      return fn(*args, **kwargs)\n    File \"/usr/local/lib/python3.7/dist-packages/keras/engine/training.py\", line 1384, in fit\n      tmp_logs = self.train_function(iterator)\n    File \"/usr/local/lib/python3.7/dist-packages/keras/engine/training.py\", line 1021, in train_function\n      return step_function(self, iterator)\n    File \"/usr/local/lib/python3.7/dist-packages/keras/engine/training.py\", line 1010, in step_function\n      outputs = model.distribute_strategy.run(run_step, args=(data,))\n    File \"/usr/local/lib/python3.7/dist-packages/keras/engine/training.py\", line 1000, in run_step\n      outputs = model.train_step(data)\n    File \"/usr/local/lib/python3.7/dist-packages/keras/engine/training.py\", line 863, in train_step\n      self.optimizer.minimize(loss, self.trainable_variables, tape=tape)\n    File \"/usr/local/lib/python3.7/dist-packages/keras/optimizer_v2/optimizer_v2.py\", line 531, in minimize\n      loss, var_list=var_list, grad_loss=grad_loss, tape=tape)\n    File \"/usr/local/lib/python3.7/dist-packages/keras/optimizer_v2/optimizer_v2.py\", line 583, in _compute_gradients\n      grads_and_vars = self._get_gradients(tape, loss, var_list, grad_loss)\n    File \"/usr/local/lib/python3.7/dist-packages/keras/optimizer_v2/optimizer_v2.py\", line 464, in _get_gradients\n      grads = tape.gradient(loss, var_list, grad_loss)\nNode: 'gradient_tape/sequential/conv2d_3/Conv2D/Conv2DBackpropInput'\nOOM when allocating tensor with shape[20000,64,14,14] and type float on /job:localhost/replica:0/task:0/device:GPU:0 by allocator GPU_0_bfc\n\t [[{{node gradient_tape/sequential/conv2d_3/Conv2D/Conv2DBackpropInput}}]]\nHint: If you want to see a list of allocated tensors when OOM happens, add report_tensor_allocations_upon_oom to RunOptions for current allocation info. This isn't available when running in Eager mode.\n [Op:__inference_train_function_1096]"
          ]
        }
      ],
      "source": [
        "# 実行時間43分\n",
        "\n",
        "\"\"\"\n",
        "上で作ったモデルで学習データをトレーニングします.\n",
        "トレーニングにはfit関数が使われます.\n",
        "\"\"\"\n",
        "\n",
        "\"\"\"\n",
        "＜データをCNNに渡すには＞\n",
        "\n",
        "fit関数の引数に学習データを突っ込むだけでOKです.\n",
        "\n",
        "前処理で作成した学習データである X_train, y_train を\n",
        "fit関数に入れます.\n",
        "\n",
        "\"\"\"\n",
        "history = model.fit(X_train, \n",
        "                    y_train, \n",
        "                    batch_size=1000, epochs=10,\n",
        "                   validation_data = (X_test, y_test), verbose = 0)"
      ]
    },
    {
      "cell_type": "code",
      "execution_count": 8,
      "metadata": {
        "colab": {
          "base_uri": "https://localhost:8080/"
        },
        "id": "YeZWADfn5y_Q",
        "outputId": "e4b51ed9-58e5-4098-9aaa-ec354fcc748a"
      },
      "outputs": [
        {
          "output_type": "stream",
          "name": "stdout",
          "text": [
            "0.7746099829673767\n"
          ]
        }
      ],
      "source": [
        "from keras.metrics import accuracy\n",
        "print(history.history[\"accuracy\"][-1])"
      ]
    },
    {
      "cell_type": "code",
      "execution_count": 9,
      "metadata": {
        "colab": {
          "base_uri": "https://localhost:8080/"
        },
        "id": "OgrX8oL46e7s",
        "outputId": "0faca1d6-112f-4c00-f511-6089ae89338b"
      },
      "outputs": [
        {
          "output_type": "stream",
          "name": "stdout",
          "text": [
            "0.7842000126838684\n"
          ]
        }
      ],
      "source": [
        "# こっちの精度を向上させることが目的\n",
        "print(history.history[\"val_accuracy\"][-1])\n",
        "# 初期値：0.26969999074935913\n",
        "# 最大値：0.2775999903678894（データを２倍に水増し）\n",
        "# 最大値：0.4219000041484833（エポック数を10→100に増加）\n",
        "# 0.3472000062465668（エポック数10, データを３倍に水増し）\n",
        "# 0.39559999108314514（エポック数10, データを４倍に水増し）\n",
        "# データを５倍に水増しした時点でクラッシュ\n",
        "# 最大値：0.6740999817848206（エポック数を10→100に増加 && データを４倍に水増し）（実行時間43m）\n",
        "# 0.3921999931335449(エポック数10, データを４倍に水増し, カーネルサイズを3->3->4->5に増加)\n",
        "# 0.3831000030040741(エポック数10, データを４倍に水増し, カーネルサイズを3->3->5->7に増加)\n",
        "# 0.3880000114440918(エポック数10, データを４倍に水増し, カーネルサイズを3->4->5->6に増加)\n",
        "# 0.42800000309944153(エポック数10, データを４倍に水増し, カーネルサイズを3->5->7->9に増加)\n",
        "# 最大値：0.7842000126838684（エポック数10, データを４倍に水増し, カーネルサイズを3->5->7->9に増加, optimizerをSGDからAdamに変更）\n"
      ]
    },
    {
      "cell_type": "code",
      "execution_count": 10,
      "metadata": {
        "colab": {
          "base_uri": "https://localhost:8080/",
          "height": 295
        },
        "id": "xWzU2dZhku6O",
        "outputId": "6bd8370e-335c-46ed-8d99-d53700a02272"
      },
      "outputs": [
        {
          "output_type": "display_data",
          "data": {
            "text/plain": [
              "<Figure size 432x288 with 1 Axes>"
            ],
            "image/png": "[encoded data removed]"
          },
          "metadata": {
            "needs_background": "light"
          }
        }
      ],
      "source": [
        "\"\"\"\n",
        "ここは余談です.\n",
        "\n",
        "上で学習した内容を可視化してます.\n",
        "\"\"\"\n",
        "\n",
        "\n",
        "plt.plot(history.history['accuracy'])\n",
        "plt.plot(history.history['val_accuracy'])\n",
        "plt.title('model accuracy')\n",
        "plt.xlabel('epoch')\n",
        "plt.ylabel('accuracy')\n",
        "plt.legend(['acc', 'val_acc'], loc='lower right')\n",
        "plt.show()"
      ]
    },
    {
      "cell_type": "code",
      "execution_count": 11,
      "metadata": {
        "colab": {
          "base_uri": "https://localhost:8080/"
        },
        "id": "u50lQZtikxQo",
        "outputId": "4a76c88f-5105-4a8f-eeee-a1d4a7b27495"
      },
      "outputs": [
        {
          "output_type": "stream",
          "name": "stdout",
          "text": [
            "[3 8 8 ... 5 4 7]\n"
          ]
        }
      ],
      "source": [
        "\"\"\"\n",
        "モデルでテストデータを予測(predict)をします. \n",
        "いわゆるテストのことです\n",
        "\n",
        "\"\"\"\n",
        "\n",
        "\"\"\"\n",
        "テストでは, まず\n",
        "CNNにテストデータのみを与え, それぞれの予測ラベルを返してもらいます.\n",
        "\n",
        "これは\n",
        "predictの引数に, X_testを突っ込むことで, \n",
        "予測値が返ってきます.\n",
        "\n",
        "\"\"\"\n",
        "\n",
        "# X_testを突っ込んで, 予測値を返す\n",
        "predict_x = model.predict(X_test) \n",
        "\n",
        "# 最も高い予測値となったラベルを返す, \n",
        "# つまり, 最も可能性の高い予測ラベルを返します.\n",
        "classes_x = np.argmax(predict_x,axis=1)\n",
        "\n",
        "# 予測ラベルを出力してみます. 入力したテスト画像ごとに, その予測ラベルを返してくれるはずです.\n",
        "print(classes_x)"
      ]
    },
    {
      "cell_type": "markdown",
      "metadata": {
        "id": "eg0d2d6w1azW"
      },
      "source": [
        "対策方法\n",
        "\n",
        "① データの加工（前処理）\n",
        "\n",
        "      ・量子化（あまりおすすめしない）/ ノイズを減らすイメージ\n",
        "      ・水増し\n",
        "\n",
        "② モデルの構築\n",
        "\n",
        "      ・畳み込みConv\n",
        "      ・層を増やす。層の種類を変える。\n",
        "      ・パラメタを変える（カーネル、ニューロン数）\n",
        "      ・CNN以外でもよい（CNNが制度上がりやすいためおすすめ）\n",
        "      ・どろっぷあうと\n",
        "③ 学習\n",
        "\n",
        "      ・学習回数\n",
        "      ・バッチサイズ（データサイズの１０分の１が最適といわれている）\n",
        "      ・最適化手法をかえる\n",
        "      ・損失関数（MSE・交差エントロピー）"
      ]
    }
  ],
  "metadata": {
    "accelerator": "GPU",
    "colab": {
      "collapsed_sections": [
        "nG9IkJJvm8vI",
        "Mjh3aDAsnNYI"
      ],
      "machine_shape": "hm",
      "name": "MLIL_3.ipynb",
      "provenance": [],
      "include_colab_link": true
    },
    "kernelspec": {
      "display_name": "Python 3",
      "name": "python3"
    },
    "language_info": {
      "name": "python"
    }
  },
  "nbformat": 4,
  "nbformat_minor": 0
}